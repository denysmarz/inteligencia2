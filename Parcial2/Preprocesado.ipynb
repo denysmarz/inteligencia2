{
 "cells": [
  {
   "cell_type": "code",
   "execution_count": 2,
   "id": "b556048e",
   "metadata": {},
   "outputs": [
    {
     "name": "stdout",
     "output_type": "stream",
     "text": [
      "Requirement already satisfied: imagehash in c:\\users\\denys\\anaconda3\\lib\\site-packages (4.3.1)\n",
      "Requirement already satisfied: pillow in c:\\users\\denys\\anaconda3\\lib\\site-packages (from imagehash) (9.4.0)\n",
      "Requirement already satisfied: scipy in c:\\users\\denys\\anaconda3\\lib\\site-packages (from imagehash) (1.10.0)\n",
      "Requirement already satisfied: numpy in c:\\users\\denys\\anaconda3\\lib\\site-packages (from imagehash) (1.23.5)\n",
      "Requirement already satisfied: PyWavelets in c:\\users\\denys\\anaconda3\\lib\\site-packages (from imagehash) (1.4.1)\n"
     ]
    }
   ],
   "source": [
    "#verificacion de imagenes duplicadas\n",
    "!pip install imagehash"
   ]
  },
  {
   "cell_type": "code",
   "execution_count": 3,
   "id": "9b1d38a3",
   "metadata": {},
   "outputs": [
    {
     "name": "stdout",
     "output_type": "stream",
     "text": [
      "Imágenes duplicadas encontradas:\n",
      "Imagen 1: WhatsApp Image 2023-05-23 at 7.22.37 AM.jpeg\n",
      "Imagen 2: WhatsApp Image 2023-05-23 at 7.22.37 AM (1).jpeg\n",
      "\n"
     ]
    }
   ],
   "source": [
    "import os\n",
    "from PIL import Image\n",
    "import imagehash\n",
    "\n",
    "# Directorio que contiene las imágenes\n",
    "directory = 'C:\\\\Users\\\\denys\\\\Desktop\\\\inte2\\\\TODO'\n",
    "\n",
    "\n",
    "# Obtener la lista de archivos de imágenes en el directorio\n",
    "image_files = [f for f in os.listdir(directory) if os.path.isfile(os.path.join(directory, f))]\n",
    "\n",
    "# Diccionario para almacenar los hashes de las imágenes\n",
    "image_hashes = {}\n",
    "\n",
    "# Verificar la duplicación de imágenes\n",
    "duplicates = []\n",
    "\n",
    "for image_file in image_files:\n",
    "    image_path = os.path.join(directory, image_file)\n",
    "\n",
    "    # Abrir y convertir la imagen a escala de grises\n",
    "    image = Image.open(image_path).convert('L')\n",
    "\n",
    "    # Calcular el hash de la imagen\n",
    "    image_hash = imagehash.phash(image)\n",
    "\n",
    "    # Verificar si el hash ya existe en el diccionario\n",
    "    if image_hash in image_hashes:\n",
    "        duplicates.append((image_file, image_hashes[image_hash]))\n",
    "    else:\n",
    "        image_hashes[image_hash] = image_file\n",
    "\n",
    "# Imprimir las imágenes duplicadas encontradas\n",
    "if len(duplicates) > 0:\n",
    "    print(\"Imágenes duplicadas encontradas:\")\n",
    "    for duplicate in duplicates:\n",
    "        print(f\"Imagen 1: {duplicate[0]}\")\n",
    "        print(f\"Imagen 2: {duplicate[1]}\")\n",
    "        print()\n",
    "else:\n",
    "    print(\"No se encontraron imágenes duplicadas.\")\n"
   ]
  },
  {
   "cell_type": "code",
   "execution_count": 5,
   "id": "5c5f0148",
   "metadata": {},
   "outputs": [
    {
     "name": "stdout",
     "output_type": "stream",
     "text": [
      "Collecting opencv-python\n",
      "  Downloading opencv_python-4.7.0.72-cp37-abi3-win_amd64.whl (38.2 MB)\n",
      "     -------------------------------------- 38.2/38.2 MB 577.8 kB/s eta 0:00:00\n",
      "Requirement already satisfied: numpy>=1.19.3 in c:\\users\\denys\\anaconda3\\lib\\site-packages (from opencv-python) (1.23.5)\n",
      "Installing collected packages: opencv-python\n",
      "Successfully installed opencv-python-4.7.0.72\n"
     ]
    }
   ],
   "source": [
    "!pip install opencv-python"
   ]
  },
  {
   "cell_type": "code",
   "execution_count": 6,
   "id": "cf7fa550",
   "metadata": {},
   "outputs": [],
   "source": [
    "#redimencionar imagenes\n",
    "import os\n",
    "import cv2"
   ]
  },
  {
   "cell_type": "code",
   "execution_count": 7,
   "id": "8b110964",
   "metadata": {},
   "outputs": [],
   "source": [
    "input_dir = 'C:\\\\Users\\\\denys\\\\Desktop\\\\inte2\\\\TODO'\n",
    "output_dir = 'C:\\\\Users\\\\denys\\\\Desktop\\\\inte2\\\\PROCESADO'"
   ]
  },
  {
   "cell_type": "code",
   "execution_count": 10,
   "id": "8d6dde7c",
   "metadata": {},
   "outputs": [],
   "source": [
    "for filename in os.listdir(input_dir):\n",
    "    if filename.endswith('.jpg') or filename.endswith('.jpeg'):\n",
    "        # Carga la imagen original\n",
    "        image_path = os.path.join(input_dir, filename)\n",
    "        image = cv2.imread(image_path)\n",
    "\n",
    "        # Redimensiona la imagen a 800x600\n",
    "        resized_image = cv2.resize(image, (800, 600))\n",
    "\n",
    "        # Guarda la imagen redimensionada en el directorio de salida\n",
    "        output_path = os.path.join(output_dir, filename)\n",
    "        cv2.imwrite(output_path, resized_image)"
   ]
  },
  {
   "cell_type": "code",
   "execution_count": null,
   "id": "2dc70ae8",
   "metadata": {},
   "outputs": [],
   "source": []
  }
 ],
 "metadata": {
  "kernelspec": {
   "display_name": "Python 3 (ipykernel)",
   "language": "python",
   "name": "python3"
  },
  "language_info": {
   "codemirror_mode": {
    "name": "ipython",
    "version": 3
   },
   "file_extension": ".py",
   "mimetype": "text/x-python",
   "name": "python",
   "nbconvert_exporter": "python",
   "pygments_lexer": "ipython3",
   "version": "3.10.9"
  }
 },
 "nbformat": 4,
 "nbformat_minor": 5
}
