{
 "cells": [
  {
   "cell_type": "code",
   "execution_count": 8,
   "id": "8c11c0e3",
   "metadata": {},
   "outputs": [
    {
     "ename": "KeyboardInterrupt",
     "evalue": "",
     "output_type": "error",
     "traceback": [
      "\u001b[1;31m---------------------------------------------------------------------------\u001b[0m",
      "\u001b[1;31mKeyboardInterrupt\u001b[0m                         Traceback (most recent call last)",
      "Cell \u001b[1;32mIn[8], line 43\u001b[0m\n\u001b[0;32m     41\u001b[0m \u001b[38;5;28;01mfor\u001b[39;00m image_file \u001b[38;5;129;01min\u001b[39;00m image_files:\n\u001b[0;32m     42\u001b[0m     image_path \u001b[38;5;241m=\u001b[39m os\u001b[38;5;241m.\u001b[39mpath\u001b[38;5;241m.\u001b[39mjoin(original_dir, image_file)\n\u001b[1;32m---> 43\u001b[0m     \u001b[43maugment_image\u001b[49m\u001b[43m(\u001b[49m\u001b[43mimage_path\u001b[49m\u001b[43m,\u001b[49m\u001b[43m \u001b[49m\u001b[43mdestination_dir\u001b[49m\u001b[43m,\u001b[49m\u001b[43m \u001b[49m\u001b[43mrepetitions\u001b[49m\u001b[43m)\u001b[49m\n",
      "Cell \u001b[1;32mIn[8], line 36\u001b[0m, in \u001b[0;36maugment_image\u001b[1;34m(image_path, output_dir, repetitions)\u001b[0m\n\u001b[0;32m     33\u001b[0m scaled \u001b[38;5;241m=\u001b[39m cv2\u001b[38;5;241m.\u001b[39mresize(image, \u001b[38;5;28;01mNone\u001b[39;00m, fx\u001b[38;5;241m=\u001b[39m\u001b[38;5;241m1.2\u001b[39m, fy\u001b[38;5;241m=\u001b[39m\u001b[38;5;241m1.2\u001b[39m)\n\u001b[0;32m     35\u001b[0m \u001b[38;5;66;03m# Guardar las imágenes aumentadas en el directorio de destino\u001b[39;00m\n\u001b[1;32m---> 36\u001b[0m \u001b[43mcv2\u001b[49m\u001b[38;5;241;43m.\u001b[39;49m\u001b[43mimwrite\u001b[49m\u001b[43m(\u001b[49m\u001b[43mos\u001b[49m\u001b[38;5;241;43m.\u001b[39;49m\u001b[43mpath\u001b[49m\u001b[38;5;241;43m.\u001b[39;49m\u001b[43mjoin\u001b[49m\u001b[43m(\u001b[49m\u001b[43moutput_dir\u001b[49m\u001b[43m,\u001b[49m\u001b[43m \u001b[49m\u001b[38;5;124;43mf\u001b[39;49m\u001b[38;5;124;43m'\u001b[39;49m\u001b[38;5;132;43;01m{\u001b[39;49;00m\u001b[43mi\u001b[49m\u001b[38;5;132;43;01m}\u001b[39;49;00m\u001b[38;5;124;43m_\u001b[39;49m\u001b[38;5;132;43;01m{\u001b[39;49;00m\u001b[43mos\u001b[49m\u001b[38;5;241;43m.\u001b[39;49m\u001b[43mpath\u001b[49m\u001b[38;5;241;43m.\u001b[39;49m\u001b[43mbasename\u001b[49m\u001b[43m(\u001b[49m\u001b[43mimage_path\u001b[49m\u001b[43m)\u001b[49m\u001b[38;5;132;43;01m}\u001b[39;49;00m\u001b[38;5;124;43m'\u001b[39;49m\u001b[43m)\u001b[49m\u001b[43m,\u001b[49m\u001b[43m \u001b[49m\u001b[43mrotated\u001b[49m\u001b[43m)\u001b[49m\n\u001b[0;32m     37\u001b[0m \u001b[38;5;66;03m# Solo se guarda una imagen aumentada por repetición\u001b[39;00m\n\u001b[0;32m     38\u001b[0m cv2\u001b[38;5;241m.\u001b[39mimwrite(os\u001b[38;5;241m.\u001b[39mpath\u001b[38;5;241m.\u001b[39mjoin(output_dir, \u001b[38;5;124mf\u001b[39m\u001b[38;5;124m'\u001b[39m\u001b[38;5;132;01m{\u001b[39;00mi\u001b[38;5;241m+\u001b[39mrepetitions\u001b[38;5;132;01m}\u001b[39;00m\u001b[38;5;124m_\u001b[39m\u001b[38;5;132;01m{\u001b[39;00mos\u001b[38;5;241m.\u001b[39mpath\u001b[38;5;241m.\u001b[39mbasename(image_path)\u001b[38;5;132;01m}\u001b[39;00m\u001b[38;5;124m'\u001b[39m), scaled)\n",
      "\u001b[1;31mKeyboardInterrupt\u001b[0m: "
     ]
    }
   ],
   "source": [
    "#DATA AUMENTATION\n",
    "\n",
    "import cv2\n",
    "import os\n",
    "\n",
    "# Directorio de las imágenes originales\n",
    "original_dir = 'C:\\\\Users\\\\denys\\\\Desktop\\\\inte2\\\\PROCESADO'\n",
    "# Directorio de destino para las imágenes aumentadas\n",
    "destination_dir = 'C:\\\\Users\\\\denys\\\\Desktop\\\\inte2\\\\PROCES'\n",
    "# Número deseado de imágenes aumentadas\n",
    "target_count = 15000\n",
    "\n",
    "# Verificar si el directorio de destino existe, si no, crearlo\n",
    "if not os.path.exists(destination_dir):\n",
    "    os.makedirs(destination_dir)\n",
    "\n",
    "# Obtener la lista de archivos de imágenes en el directorio original\n",
    "image_files = [f for f in os.listdir(original_dir) if os.path.isfile(os.path.join(original_dir, f))]\n",
    "\n",
    "# Calcular el número de veces que cada imagen se debe aumentar\n",
    "repetitions = target_count // len(image_files)\n",
    "\n",
    "# Función para aplicar transformaciones y guardar las imágenes aumentadas\n",
    "def augment_image(image_path, output_dir, repetitions):\n",
    "    # Cargar la imagen original\n",
    "    image = cv2.imread(image_path)\n",
    "    \n",
    "    # Aplicar transformaciones y guardar las imágenes aumentadas\n",
    "    for i in range(repetitions):\n",
    "        # Aplicar aquí las transformaciones deseadas, por ejemplo:\n",
    "        # Rotación aleatoria\n",
    "        rotated = cv2.rotate(image, cv2.ROTATE_90_CLOCKWISE)\n",
    "        # Cambio de escala\n",
    "        scaled = cv2.resize(image, None, fx=1.2, fy=1.2)\n",
    "        \n",
    "        # Guardar las imágenes aumentadas en el directorio de destino\n",
    "        cv2.imwrite(os.path.join(output_dir, f'{i}_{os.path.basename(image_path)}'), rotated)\n",
    "        cv2.imwrite(os.path.join(output_dir, f'{i+repetitions}_{os.path.basename(image_path)}'), scaled)\n",
    "\n",
    "# Iterar sobre cada imagen en el directorio original y aplicar el aumento de datos\n",
    "for image_file in image_files:\n",
    "    image_path = os.path.join(original_dir, image_file)\n",
    "    augment_image(image_path, destination_dir, repetitions)\n"
   ]
  },
  {
   "cell_type": "code",
   "execution_count": 9,
   "id": "4f162f88",
   "metadata": {},
   "outputs": [
    {
     "name": "stdout",
     "output_type": "stream",
     "text": [
      "hola\n"
     ]
    }
   ],
   "source": [
    "print(\"hola\")"
   ]
  },
  {
   "cell_type": "code",
   "execution_count": 33,
   "id": "9e6d804c",
   "metadata": {},
   "outputs": [
    {
     "ename": "KeyboardInterrupt",
     "evalue": "",
     "output_type": "error",
     "traceback": [
      "\u001b[1;31m---------------------------------------------------------------------------\u001b[0m",
      "\u001b[1;31mKeyboardInterrupt\u001b[0m                         Traceback (most recent call last)",
      "Cell \u001b[1;32mIn[33], line 58\u001b[0m\n\u001b[0;32m     53\u001b[0m         transformed_image \u001b[38;5;241m=\u001b[39m ImageEnhance\u001b[38;5;241m.\u001b[39mContrast(transformed_image)\u001b[38;5;241m.\u001b[39menhance(factor)\n\u001b[0;32m     55\u001b[0m     \u001b[38;5;66;03m# Agrega más casos según las transformaciones que desees\u001b[39;00m\n\u001b[0;32m     56\u001b[0m \n\u001b[0;32m     57\u001b[0m \u001b[38;5;66;03m# Guardar imagen transformada en el directorio de salida\u001b[39;00m\n\u001b[1;32m---> 58\u001b[0m augmented_filename \u001b[38;5;241m=\u001b[39m \u001b[38;5;124mf\u001b[39m\u001b[38;5;124m\"\u001b[39m\u001b[38;5;132;01m{\u001b[39;00mos\u001b[38;5;241m.\u001b[39mpath\u001b[38;5;241m.\u001b[39msplitext(filename)[\u001b[38;5;241m0\u001b[39m]\u001b[38;5;132;01m}\u001b[39;00m\u001b[38;5;124m_aumentado_\u001b[39m\u001b[38;5;132;01m{\u001b[39;00maugmented_count\u001b[38;5;132;01m}\u001b[39;00m\u001b[38;5;124m.jpg\u001b[39m\u001b[38;5;124m\"\u001b[39m\n\u001b[0;32m     59\u001b[0m transformed_image\u001b[38;5;241m.\u001b[39msave(os\u001b[38;5;241m.\u001b[39mpath\u001b[38;5;241m.\u001b[39mjoin(output_dir, augmented_filename))\n\u001b[0;32m     60\u001b[0m augmented_count \u001b[38;5;241m+\u001b[39m\u001b[38;5;241m=\u001b[39m \u001b[38;5;241m1\u001b[39m  \u001b[38;5;66;03m# Incrementar el contador de imágenes aumentadas\u001b[39;00m\n",
      "File \u001b[1;32m~\\anaconda3\\lib\\ntpath.py:229\u001b[0m, in \u001b[0;36msplitext\u001b[1;34m(p)\u001b[0m\n\u001b[0;32m    221\u001b[0m     \u001b[38;5;28;01mreturn\u001b[39;00m d \u001b[38;5;241m+\u001b[39m head, tail\n\u001b[0;32m    224\u001b[0m \u001b[38;5;66;03m# Split a path in root and extension.\u001b[39;00m\n\u001b[0;32m    225\u001b[0m \u001b[38;5;66;03m# The extension is everything starting at the last dot in the last\u001b[39;00m\n\u001b[0;32m    226\u001b[0m \u001b[38;5;66;03m# pathname component; the root is everything before that.\u001b[39;00m\n\u001b[0;32m    227\u001b[0m \u001b[38;5;66;03m# It is always true that root + ext == p.\u001b[39;00m\n\u001b[1;32m--> 229\u001b[0m \u001b[38;5;28;01mdef\u001b[39;00m \u001b[38;5;21msplitext\u001b[39m(p):\n\u001b[0;32m    230\u001b[0m     p \u001b[38;5;241m=\u001b[39m os\u001b[38;5;241m.\u001b[39mfspath(p)\n\u001b[0;32m    231\u001b[0m     \u001b[38;5;28;01mif\u001b[39;00m \u001b[38;5;28misinstance\u001b[39m(p, \u001b[38;5;28mbytes\u001b[39m):\n",
      "\u001b[1;31mKeyboardInterrupt\u001b[0m: "
     ]
    }
   ],
   "source": [
    "from PIL import Image, ImageEnhance\n",
    "import os\n",
    "import random\n",
    "\n",
    "# Directorio que contiene las imágenes originales\n",
    "input_dir = 'C:\\\\Users\\\\denys\\\\Desktop\\\\inte2\\\\PROCESADO'\n",
    "# Directorio donde se guardarán las imágenes aumentadas\n",
    "output_dir = 'C:\\\\Users\\\\denys\\\\Desktop\\\\inte2\\\\DATAAUMENTATION'\n",
    "\n",
    "# Verificar que el directorio de salida exista\n",
    "if not os.path.exists(output_dir):\n",
    "    os.makedirs(output_dir)\n",
    "\n",
    "# Lista para almacenar el número de imágenes aumentadas para cada imagen original\n",
    "augmented_count = []\n",
    "\n",
    "# Lista de transformaciones disponibles\n",
    "transformations = [\n",
    "    # Lista de transformaciones disponibles (puedes agregar más)\n",
    "    'flip_horizontal',\n",
    "    'flip_vertical',\n",
    "    'rotate',\n",
    "    'brightness',\n",
    "    'contrast',\n",
    "    # Agrega más transformaciones aquí\n",
    "]\n",
    "\n",
    "# Iterar sobre cada imagen en el directorio de entrada\n",
    "for filename in os.listdir(input_dir):\n",
    "    image_path = os.path.join(input_dir, filename)\n",
    "    # Abrir la imagen original\n",
    "    image = Image.open(image_path)\n",
    "\n",
    "    augmented_count = 1\n",
    "\n",
    "    # Generar múltiples transformaciones para cada imagen original\n",
    "    while augmented_count <= 15:\n",
    "        transformed_image = image.copy()\n",
    "        for transformation in transformations:\n",
    "            # Aplicar transformación seleccionada\n",
    "            if transformation == 'flip_horizontal':\n",
    "                transformed_image = transformed_image.transpose(Image.FLIP_LEFT_RIGHT)\n",
    "            elif transformation == 'flip_vertical':\n",
    "                transformed_image = transformed_image.transpose(Image.FLIP_TOP_BOTTOM)\n",
    "            elif transformation == 'rotate':\n",
    "                angle = random.randint(1, 360)  # Ángulo de rotación aleatorio entre 1 y 360 grados\n",
    "                transformed_image = transformed_image.rotate(angle)\n",
    "            elif transformation == 'brightness':\n",
    "                factor = random.uniform(0.8, 1.5)  # Factor de brillo aleatorio entre 0.8 y 1.2\n",
    "                transformed_image = ImageEnhance.Brightness(transformed_image).enhance(factor)\n",
    "            elif transformation == 'contrast':\n",
    "                factor = random.uniform(0.8, 1.5)  # Factor de contraste aleatorio entre 0.8 y 1.2\n",
    "                transformed_image = ImageEnhance.Contrast(transformed_image).enhance(factor)\n",
    "            \n",
    "            # Agrega más casos según las transformaciones que desees\n",
    "\n",
    "        # Guardar imagen transformada en el directorio de salida\n",
    "        augmented_filename = f\"{os.path.splitext(filename)[0]}_aumentado_{augmented_count}.jpg\"\n",
    "        transformed_image.save(os.path.join(output_dir, augmented_filename))\n",
    "        augmented_count += 1  # Incrementar el contador de imágenes aumentadas\n",
    "\n",
    "\n",
    "\n",
    "\n",
    "print(f\"Total de imágenes aumentadas: {augmented_count}\")\n"
   ]
  },
  {
   "cell_type": "code",
   "execution_count": 29,
   "id": "7fb8c95c",
   "metadata": {},
   "outputs": [
    {
     "data": {
      "text/plain": [
       "15000"
      ]
     },
     "execution_count": 29,
     "metadata": {},
     "output_type": "execute_result"
    }
   ],
   "source": [
    "15000 // 1"
   ]
  },
  {
   "cell_type": "code",
   "execution_count": 27,
   "id": "56dbfceb",
   "metadata": {},
   "outputs": [
    {
     "name": "stdout",
     "output_type": "stream",
     "text": [
      "No se encontraron imágenes duplicadas.\n"
     ]
    }
   ],
   "source": [
    "import os\n",
    "from PIL import Image\n",
    "import imagehash\n",
    "\n",
    "# Directorio que contiene las imágenes\n",
    "directory = 'C:\\\\Users\\\\denys\\\\Desktop\\\\inte2\\\\DATAAUMENTATION'\n",
    "\n",
    "\n",
    "# Obtener la lista de archivos de imágenes en el directorio\n",
    "image_files = [f for f in os.listdir(directory) if os.path.isfile(os.path.join(directory, f))]\n",
    "\n",
    "# Diccionario para almacenar los hashes de las imágenes\n",
    "image_hashes = {}\n",
    "\n",
    "# Verificar la duplicación de imágenes\n",
    "duplicates = []\n",
    "\n",
    "for image_file in image_files:\n",
    "    image_path = os.path.join(directory, image_file)\n",
    "\n",
    "    # Abrir y convertir la imagen a escala de grises\n",
    "    image = Image.open(image_path).convert('L')\n",
    "\n",
    "    # Calcular el hash de la imagen\n",
    "    image_hash = imagehash.phash(image)\n",
    "\n",
    "    # Verificar si el hash ya existe en el diccionario\n",
    "    if image_hash in image_hashes:\n",
    "        duplicates.append((image_file, image_hashes[image_hash]))\n",
    "    else:\n",
    "        image_hashes[image_hash] = image_file\n",
    "\n",
    "# Imprimir las imágenes duplicadas encontradas\n",
    "if len(duplicates) > 0:\n",
    "    print(\"Imágenes duplicadas encontradas:\")\n",
    "    for duplicate in duplicates:\n",
    "        print(f\"Imagen 1: {duplicate[0]}\")\n",
    "        print(f\"Imagen 2: {duplicate[1]}\")\n",
    "        print()\n",
    "else:\n",
    "    print(\"No se encontraron imágenes duplicadas.\")\n"
   ]
  },
  {
   "cell_type": "code",
   "execution_count": null,
   "id": "1dba6dda",
   "metadata": {},
   "outputs": [],
   "source": []
  }
 ],
 "metadata": {
  "kernelspec": {
   "display_name": "Python 3 (ipykernel)",
   "language": "python",
   "name": "python3"
  },
  "language_info": {
   "codemirror_mode": {
    "name": "ipython",
    "version": 3
   },
   "file_extension": ".py",
   "mimetype": "text/x-python",
   "name": "python",
   "nbconvert_exporter": "python",
   "pygments_lexer": "ipython3",
   "version": "3.10.9"
  }
 },
 "nbformat": 4,
 "nbformat_minor": 5
}
