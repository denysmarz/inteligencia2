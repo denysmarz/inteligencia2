{
 "cells": [
  {
   "cell_type": "code",
   "execution_count": 3,
   "metadata": {
    "colab": {
     "base_uri": "https://localhost:8080/"
    },
    "id": "_SGDOW3MUQ1o",
    "outputId": "a2faa608-e896-469b-f862-5f4a85546bee",
    "scrolled": true
   },
   "outputs": [
    {
     "name": "stdout",
     "output_type": "stream",
     "text": [
      "Collecting labelbox\n",
      "  Using cached labelbox-3.47.1-py3-none-any.whl (209 kB)\n",
      "Collecting backoff==1.10.0\n",
      "  Using cached backoff-1.10.0-py2.py3-none-any.whl (31 kB)\n",
      "Collecting google-api-core>=1.22.1\n",
      "  Using cached google_api_core-2.11.0-py3-none-any.whl (120 kB)\n",
      "Requirement already satisfied: tqdm in c:\\users\\denys\\anaconda3\\lib\\site-packages (from labelbox) (4.64.1)\n",
      "Collecting backports-datetime-fromisoformat~=2.0\n",
      "  Using cached backports-datetime-fromisoformat-2.0.0.tar.gz (18 kB)\n",
      "  Preparing metadata (setup.py): started\n",
      "  Preparing metadata (setup.py): finished with status 'done'\n",
      "Requirement already satisfied: requests>=2.22.0 in c:\\users\\denys\\anaconda3\\lib\\site-packages (from labelbox) (2.28.1)\n",
      "Collecting pydantic<2.0,>=1.8\n",
      "  Using cached pydantic-1.10.8-cp310-cp310-win_amd64.whl (2.1 MB)\n",
      "Collecting googleapis-common-protos<2.0dev,>=1.56.2\n",
      "  Using cached googleapis_common_protos-1.59.0-py2.py3-none-any.whl (223 kB)\n",
      "Collecting protobuf!=3.20.0,!=3.20.1,!=4.21.0,!=4.21.1,!=4.21.2,!=4.21.3,!=4.21.4,!=4.21.5,<5.0.0dev,>=3.19.5\n",
      "  Using cached protobuf-4.23.1-cp310-abi3-win_amd64.whl (422 kB)\n",
      "Collecting google-auth<3.0dev,>=2.14.1\n",
      "  Using cached google_auth-2.18.1-py2.py3-none-any.whl (178 kB)\n",
      "Requirement already satisfied: typing-extensions>=4.2.0 in c:\\users\\denys\\anaconda3\\lib\\site-packages (from pydantic<2.0,>=1.8->labelbox) (4.4.0)\n",
      "Requirement already satisfied: idna<4,>=2.5 in c:\\users\\denys\\anaconda3\\lib\\site-packages (from requests>=2.22.0->labelbox) (3.4)\n",
      "Requirement already satisfied: urllib3<1.27,>=1.21.1 in c:\\users\\denys\\anaconda3\\lib\\site-packages (from requests>=2.22.0->labelbox) (1.26.14)\n",
      "Requirement already satisfied: charset-normalizer<3,>=2 in c:\\users\\denys\\anaconda3\\lib\\site-packages (from requests>=2.22.0->labelbox) (2.0.4)\n",
      "Requirement already satisfied: certifi>=2017.4.17 in c:\\users\\denys\\anaconda3\\lib\\site-packages (from requests>=2.22.0->labelbox) (2022.12.7)\n",
      "Requirement already satisfied: colorama in c:\\users\\denys\\anaconda3\\lib\\site-packages (from tqdm->labelbox) (0.4.6)\n",
      "Requirement already satisfied: six>=1.9.0 in c:\\users\\denys\\anaconda3\\lib\\site-packages (from google-auth<3.0dev,>=2.14.1->google-api-core>=1.22.1->labelbox) (1.16.0)\n",
      "Collecting rsa<5,>=3.1.4\n",
      "  Using cached rsa-4.9-py3-none-any.whl (34 kB)\n",
      "Collecting cachetools<6.0,>=2.0.0\n",
      "  Using cached cachetools-5.3.0-py3-none-any.whl (9.3 kB)\n",
      "Requirement already satisfied: pyasn1-modules>=0.2.1 in c:\\users\\denys\\anaconda3\\lib\\site-packages (from google-auth<3.0dev,>=2.14.1->google-api-core>=1.22.1->labelbox) (0.2.8)\n",
      "Requirement already satisfied: pyasn1<0.5.0,>=0.4.6 in c:\\users\\denys\\anaconda3\\lib\\site-packages (from pyasn1-modules>=0.2.1->google-auth<3.0dev,>=2.14.1->google-api-core>=1.22.1->labelbox) (0.4.8)\n",
      "Building wheels for collected packages: backports-datetime-fromisoformat\n",
      "  Building wheel for backports-datetime-fromisoformat (setup.py): started\n",
      "  Building wheel for backports-datetime-fromisoformat (setup.py): finished with status 'error'\n",
      "  Running setup.py clean for backports-datetime-fromisoformat\n",
      "Failed to build backports-datetime-fromisoformat\n",
      "Installing collected packages: backports-datetime-fromisoformat, rsa, pydantic, protobuf, cachetools, backoff, googleapis-common-protos, google-auth, google-api-core, labelbox\n",
      "  Running setup.py install for backports-datetime-fromisoformat: started\n",
      "  Running setup.py install for backports-datetime-fromisoformat: finished with status 'error'\n"
     ]
    },
    {
     "name": "stderr",
     "output_type": "stream",
     "text": [
      "  error: subprocess-exited-with-error\n",
      "  \n",
      "  python setup.py bdist_wheel did not run successfully.\n",
      "  exit code: 1\n",
      "  \n",
      "  [12 lines of output]\n",
      "  running bdist_wheel\n",
      "  running build\n",
      "  running build_py\n",
      "  creating build\n",
      "  creating build\\lib.win-amd64-cpython-310\n",
      "  creating build\\lib.win-amd64-cpython-310\\backports\n",
      "  copying backports\\__init__.py -> build\\lib.win-amd64-cpython-310\\backports\n",
      "  creating build\\lib.win-amd64-cpython-310\\backports\\datetime_fromisoformat\n",
      "  copying backports\\datetime_fromisoformat\\__init__.py -> build\\lib.win-amd64-cpython-310\\backports\\datetime_fromisoformat\n",
      "  running build_ext\n",
      "  building 'backports._datetime_fromisoformat' extension\n",
      "  error: Microsoft Visual C++ 14.0 or greater is required. Get it with \"Microsoft C++ Build Tools\": https://visualstudio.microsoft.com/visual-cpp-build-tools/\n",
      "  [end of output]\n",
      "  \n",
      "  note: This error originates from a subprocess, and is likely not a problem with pip.\n",
      "  ERROR: Failed building wheel for backports-datetime-fromisoformat\n",
      "  error: subprocess-exited-with-error\n",
      "  \n",
      "  Running setup.py install for backports-datetime-fromisoformat did not run successfully.\n",
      "  exit code: 1\n",
      "  \n",
      "  [14 lines of output]\n",
      "  running install\n",
      "  C:\\Users\\denys\\anaconda3\\lib\\site-packages\\setuptools\\command\\install.py:34: SetuptoolsDeprecationWarning: setup.py install is deprecated. Use build and pip and other standards-based tools.\n",
      "    warnings.warn(\n",
      "  running build\n",
      "  running build_py\n",
      "  creating build\n",
      "  creating build\\lib.win-amd64-cpython-310\n",
      "  creating build\\lib.win-amd64-cpython-310\\backports\n",
      "  copying backports\\__init__.py -> build\\lib.win-amd64-cpython-310\\backports\n",
      "  creating build\\lib.win-amd64-cpython-310\\backports\\datetime_fromisoformat\n",
      "  copying backports\\datetime_fromisoformat\\__init__.py -> build\\lib.win-amd64-cpython-310\\backports\\datetime_fromisoformat\n",
      "  running build_ext\n",
      "  building 'backports._datetime_fromisoformat' extension\n",
      "  error: Microsoft Visual C++ 14.0 or greater is required. Get it with \"Microsoft C++ Build Tools\": https://visualstudio.microsoft.com/visual-cpp-build-tools/\n",
      "  [end of output]\n",
      "  \n",
      "  note: This error originates from a subprocess, and is likely not a problem with pip.\n",
      "error: legacy-install-failure\n",
      "\n",
      "Encountered error while trying to install package.\n",
      "\n",
      "backports-datetime-fromisoformat\n",
      "\n",
      "note: This is an issue with the package mentioned above, not pip.\n",
      "hint: See above for output from the failure.\n"
     ]
    }
   ],
   "source": [
    "!pip install labelbox"
   ]
  },
  {
   "cell_type": "code",
   "execution_count": 2,
   "metadata": {
    "id": "EOUXcnTUUMta"
   },
   "outputs": [
    {
     "ename": "ModuleNotFoundError",
     "evalue": "No module named 'labelbox'",
     "output_type": "error",
     "traceback": [
      "\u001b[1;31m---------------------------------------------------------------------------\u001b[0m",
      "\u001b[1;31mModuleNotFoundError\u001b[0m                       Traceback (most recent call last)",
      "Cell \u001b[1;32mIn[2], line 1\u001b[0m\n\u001b[1;32m----> 1\u001b[0m \u001b[38;5;28;01mimport\u001b[39;00m \u001b[38;5;21;01mlabelbox\u001b[39;00m\n\u001b[0;32m      2\u001b[0m \u001b[38;5;28;01mimport\u001b[39;00m \u001b[38;5;21;01mjson\u001b[39;00m\n\u001b[0;32m      3\u001b[0m LB_API_KEY \u001b[38;5;241m=\u001b[39m \u001b[38;5;124m'\u001b[39m\u001b[38;5;124mcli0k134u0i2l07uldxa5exat\u001b[39m\u001b[38;5;124m'\u001b[39m\n",
      "\u001b[1;31mModuleNotFoundError\u001b[0m: No module named 'labelbox'"
     ]
    }
   ],
   "source": [
    "import labelbox\n",
    "import json\n",
    "LB_API_KEY = 'cli0k134u0i2l07uldxa5exat'\n",
    "PROJECT_ID = 'PROJECT_ID'\n",
    "client = labelbox.Client(api_key = LB_API_KEY)\n",
    "project = client.get_project(PROJECT_ID)\n",
    "labels = project.export_v2(params={\n",
    "\t\"data_row_details\": True,\n",
    "\t\"label_details\": True,\n",
    "  })"
   ]
  },
  {
   "cell_type": "code",
   "execution_count": 5,
   "metadata": {
    "id": "tWOOGICEU5Ch"
   },
   "outputs": [],
   "source": [
    "export_json = labels.result\n",
    "labels = []\n",
    "for i in export_json:\n",
    "  if(PROJECT_ID in i['projects']):\n",
    "    img_name = i['data_row']['external_id'] \n",
    "    y = {\n",
    "          'annotation': \n",
    "           {\n",
    "              'filename': img_name,\n",
    "              'size': {'width': '800', 'height': '600', 'depth': '3'},\n",
    "              'object': []\n",
    "           }\n",
    "        }\n",
    "    for ann in i['projects'][PROJECT_ID]['labels'][0]['annotations']['objects']:\n",
    "      name = ann['name']\n",
    "      bb = ann['bounding_box']\n",
    "      obj = {\n",
    "          'name': name,\n",
    "          'bndbox': bb\n",
    "      }\n",
    "      y['annotation']['object'].append(obj)\n",
    "    labels.append(y)\n",
    "\n",
    "with open('basura_labels.json', 'w') as outfile:\n",
    "    json.dump(labels, outfile)\n",
    "  "
   ]
  }
 ],
 "metadata": {
  "colab": {
   "provenance": []
  },
  "kernelspec": {
   "display_name": "Python 3 (ipykernel)",
   "language": "python",
   "name": "python3"
  },
  "language_info": {
   "codemirror_mode": {
    "name": "ipython",
    "version": 3
   },
   "file_extension": ".py",
   "mimetype": "text/x-python",
   "name": "python",
   "nbconvert_exporter": "python",
   "pygments_lexer": "ipython3",
   "version": "3.10.9"
  }
 },
 "nbformat": 4,
 "nbformat_minor": 1
}
