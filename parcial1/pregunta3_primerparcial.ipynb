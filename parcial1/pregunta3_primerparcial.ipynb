{
  "nbformat": 4,
  "nbformat_minor": 0,
  "metadata": {
    "colab": {
      "provenance": []
    },
    "kernelspec": {
      "name": "python3",
      "display_name": "Python 3"
    },
    "language_info": {
      "name": "python"
    },
    "accelerator": "GPU",
    "gpuClass": "standard"
  },
  "cells": [
    {
      "cell_type": "code",
      "source": [
        "import torch\n",
        "import torchvision\n",
        "\n",
        "device = \"cuda\" if torch.cuda.is_available() else \"cpu\"\n",
        "device"
      ],
      "metadata": {
        "colab": {
          "base_uri": "https://localhost:8080/",
          "height": 36
        },
        "id": "TxFaADjuzQxv",
        "outputId": "8cebb1dc-e94b-4d7c-b88d-710dbb1de830"
      },
      "execution_count": 5,
      "outputs": [
        {
          "output_type": "execute_result",
          "data": {
            "text/plain": [
              "'cuda'"
            ],
            "application/vnd.google.colaboratory.intrinsic+json": {
              "type": "string"
            }
          },
          "metadata": {},
          "execution_count": 5
        }
      ]
    },
    {
      "cell_type": "code",
      "source": [
        "import torch\n",
        "import torchvision\n",
        "import torchvision.transforms as transforms\n",
        "\n",
        "# Definimos una transformación para preprocesar las imágenes\n",
        "transform = transforms.Compose([\n",
        "    transforms.Resize((28, 28)),  # Redimensionamos las imágenes a 28 x 28\n",
        "    transforms.ToTensor(),  # Convertimos las imágenes a tensores\n",
        "    transforms.Normalize(mean=[0.5, 0.5, 0.5], std=[0.5, 0.5, 0.5])\n",
        "])\n",
        "\n",
        "# Descargamos el conjunto de entrenamiento del GTSRB y aplicamos la transformación definida\n",
        "train_set = torchvision.datasets.GTSRB(\n",
        "    root='./data',split = 'train', download=True, transform=transform)\n",
        "\n",
        "# Descargamos el conjunto de prueba del GTSRB y aplicamos la transformación definida\n",
        "test_set = torchvision.datasets.GTSRB(\n",
        "    root='./data', split = 'test', download=True, transform=transform)\n",
        "\n",
        "# Creamos los dataloaders para cargar los datos en lotes durante el entrenamiento\n",
        "train_loader = torch.utils.data.DataLoader(train_set, batch_size=32, shuffle=True)\n",
        "test_loader = torch.utils.data.DataLoader(test_set, batch_size=32, shuffle=False)\n"
      ],
      "metadata": {
        "id": "KjF6rV3tv9gh"
      },
      "execution_count": 6,
      "outputs": []
    },
    {
      "cell_type": "code",
      "source": [
        "def imshow(img):\n",
        "    img = img / 2 + 0.5     # Desnormalizar\n",
        "    npimg = img.numpy()\n",
        "    plt.imshow(np.transpose(npimg, (1, 2, 0)))\n",
        "    plt.show()\n"
      ],
      "metadata": {
        "id": "D_hnheCksgch"
      },
      "execution_count": 7,
      "outputs": []
    },
    {
      "cell_type": "code",
      "source": [
        "import matplotlib.pyplot as plt\n",
        "import numpy as np\n",
        "\n",
        "classes = ['Speed limit (20km/h)', 'Speed limit (30km/h)', 'Speed limit (50km/h)', 'Speed limit (60km/h)',\n",
        "           'Speed limit (70km/h)', 'Speed limit (80km/h)', 'End of speed limit (80km/h)', 'Speed limit (100km/h)',\n",
        "           'Speed limit (120km/h)', 'No passing', 'No passing for vehicles over 3.5 metric tons',\n",
        "           'Right-of-way at the next intersection', 'Priority road', 'Yield', 'Stop', 'No vehicles',\n",
        "           'Vehicles over 3.5 metric tons prohibited', 'No entry', 'General caution', 'Dangerous curve to the left',\n",
        "           'Dangerous curve to the right', 'Double curve', 'Bumpy road', 'Slippery road', 'Road narrows on the right',\n",
        "           'Road work', 'Traffic signals', 'Pedestrians', 'Children crossing', 'Bicycles crossing', 'Beware of ice/snow',\n",
        "           'Wild animals crossing', 'End of all speed and passing limits', 'Turn right ahead', 'Turn left ahead',\n",
        "           'Ahead only', 'Go straight or right', 'Go straight or left', 'Keep right', 'Keep left', 'Roundabout mandatory',\n",
        "           'End of no passing', 'End of no passing by vehicles over 3.5 metric tons']\n",
        "# Obtener un lote de datos de entrenamiento\n",
        "dataiter = iter(train_loader)\n",
        "images, labels = next(dataiter)\n",
        "\n",
        "# Mostrar las imágenes\n",
        "fig, axes = plt.subplots(figsize=(10,4), ncols=4)\n",
        "for i in range(4):\n",
        "    ax = axes[i]\n",
        "    # Normalizar la imagen\n",
        "    img_norm = (images - images.min()) / (images.max() - images.min())\n",
        "\n",
        "    # Mostrar la imagen\n",
        "    ax.imshow(np.transpose(img_norm[i], (1, 2, 0)))\n",
        "    #ax.imshow(np.transpose(images[i], (1, 2, 0)))\n",
        "    ax.set_title(classes[labels[i].item()])\n",
        "    ax.axis('off')\n",
        "plt.show()\n"
      ],
      "metadata": {
        "colab": {
          "base_uri": "https://localhost:8080/",
          "height": 227
        },
        "id": "op8LW50CIiJa",
        "outputId": "ea4a97ce-67b5-407c-a1b7-37353ddd8e01"
      },
      "execution_count": 9,
      "outputs": [
        {
          "output_type": "display_data",
          "data": {
            "text/plain": [
              "<Figure size 1000x400 with 4 Axes>"
            ],
            "image/png": "[encoded data removed]"
          },
          "metadata": {}
        }
      ]
    },
    {
      "cell_type": "code",
      "source": [],
      "metadata": {
        "id": "6MVXofsMdHvj"
      },
      "execution_count": null,
      "outputs": []
    },
    {
      "cell_type": "code",
      "source": [
        "image, label = train_set[0]\n",
        "print(\"Valor mínimo:\", np.min(image.numpy()))\n",
        "print(\"Valor máximo:\", np.max(image.numpy()))\n",
        "\n",
        "print(image.shape)\n"
      ],
      "metadata": {
        "colab": {
          "base_uri": "https://localhost:8080/"
        },
        "id": "LEhXX2imHLGv",
        "outputId": "28268676-659d-48a6-b30a-5e49496e10e9"
      },
      "execution_count": 10,
      "outputs": [
        {
          "output_type": "stream",
          "name": "stdout",
          "text": [
            "Valor mínimo: -0.62352943\n",
            "Valor máximo: 1.0\n",
            "torch.Size([3, 28, 28])\n"
          ]
        }
      ]
    },
    {
      "cell_type": "code",
      "source": [
        "import torch\n",
        "import torch.nn as nn\n",
        "import torch.nn.functional as F\n",
        "\n",
        "class Generator(nn.Module):\n",
        "    def __init__(self, image_size=28, patch_size=7, n_patches=4, n_heads=4, hidden_size=128):\n",
        "        super(Generator, self).__init__()\n",
        "        \n",
        "        # patch embedding layer\n",
        "        self.patch_embed = nn.Linear(image_size*image_size*3, patch_size*patch_size*n_patches)\n",
        "        \n",
        "        # positional encoding layer\n",
        "        self.pos_encoding = nn.Parameter(torch.zeros(1, n_patches*n_patches, hidden_size))\n",
        "        \n",
        "        # scaled dot-product attention layer\n",
        "        self.attn = nn.MultiheadAttention(hidden_size, n_heads)\n",
        "        \n",
        "        # feedforward layer\n",
        "        self.ff = nn.Sequential(\n",
        "            nn.Linear(hidden_size, hidden_size),\n",
        "            nn.ReLU(),\n",
        "            nn.Linear(hidden_size, hidden_size)\n",
        "        )\n",
        "        \n",
        "        # output layer\n",
        "        self.out = nn.Linear(hidden_size, 3*image_size*image_size)\n",
        "\n",
        "        \n",
        "    def forward(self, x):\n",
        "        B = x.size(0)\n",
        "\n",
        "        # flatten input image\n",
        "        x = x.view(B, -1)\n",
        "\n",
        "        # patch embedding\n",
        "        x = self.patch_embed(x)\n",
        "        x = x.view(B, -1, self.patch_size*self.patch_size)\n",
        "\n",
        "        # add positional encoding\n",
        "        x = x + self.pos_encoding\n",
        "\n",
        "        # transpose to (L, B, E)\n",
        "        x = x.permute(1, 0, 2)\n",
        "\n",
        "        # scaled dot-product attention\n",
        "        attn_output, _ = self.attn(x, x, x)\n",
        "        x = x + attn_output\n",
        "\n",
        "        # feedforward layer\n",
        "        x = self.ff(x)\n",
        "\n",
        "        # output layer\n",
        "        x = self.out(x)\n",
        "\n",
        "        # reshape to image size\n",
        "        x = x.view(B, 3, self.image_size, self.image_size)\n",
        "\n",
        "        return x\n"
      ],
      "metadata": {
        "id": "6EKG7BW6qAmZ"
      },
      "execution_count": 11,
      "outputs": []
    },
    {
      "cell_type": "code",
      "source": [
        "class Discriminator(nn.Module):\n",
        "    def __init__(self):\n",
        "        super().__init__()\n",
        "        self.main = nn.Sequential(\n",
        "            nn.Conv2d(3, 64, 4, stride=2, padding=1, bias=False),\n",
        "            nn.LeakyReLU(0.2, inplace=True),\n",
        "            nn.Conv2d(64, 128, 4, stride=2, padding=1, bias=False),\n",
        "            nn.BatchNorm2d(128),\n",
        "            nn.LeakyReLU(0.2, inplace=True),\n",
        "            nn.Conv2d(128, 256, 4, stride=2, padding=1, bias=False),\n",
        "            nn.BatchNorm2d(256),\n",
        "            nn.LeakyReLU(0.2, inplace=True),\n",
        "            nn.Conv2d(256, 1, 4, stride=1, bias=False),\n",
        "            nn.Sigmoid()\n",
        "        )\n",
        "\n",
        "    def forward(self, x):\n",
        "        x = x.view(-1, 3, 28, 28)\n",
        "        x = self.main(x)\n",
        "        x = x.view(-1, 1)\n",
        "        return x\n"
      ],
      "metadata": {
        "id": "iFgdF-ydwB47"
      },
      "execution_count": 12,
      "outputs": []
    },
    {
      "cell_type": "code",
      "source": [
        "import torch\n",
        "\n",
        "image = torch.randn(3, 28, 28) # ejemplo de imagen de 28x28x3\n",
        "image = image.unsqueeze(0) # agregando dimensión de lote\n",
        "print(image.shape)\n"
      ],
      "metadata": {
        "colab": {
          "base_uri": "https://localhost:8080/"
        },
        "id": "DVRt12f015-1",
        "outputId": "4126695a-d6a7-4249-d3d0-41aba512b555"
      },
      "execution_count": 15,
      "outputs": [
        {
          "output_type": "stream",
          "name": "stdout",
          "text": [
            "torch.Size([1, 3, 28, 28])\n"
          ]
        }
      ]
    },
    {
      "cell_type": "code",
      "source": [
        "import torch.nn as nn\n",
        "\n",
        "def block(n_in, n_out):\n",
        "  return nn.Sequential(\n",
        "      nn.Linear(n_in, n_out),\n",
        "      nn.ReLU(inplace=True)\n",
        "  )\n",
        "\n",
        "class MLP(nn.Module):\n",
        "  def __init__(self, input_size, output_size):\n",
        "    super().__init__()\n",
        "    self.input_size = input_size\n",
        "    self.fc1 = block(input_size, 150)\n",
        "    self.fc2 = block(150, 100)\n",
        "    self.fc3 = nn.Linear(100, output_size)\n",
        "\n",
        "  def forward(self, x):\n",
        "    x = self.fc1(x)\n",
        "    x = self.fc2(x)\n",
        "    x = self.fc3(x)\n",
        "    return x"
      ],
      "metadata": {
        "id": "faS_XUDo_fGV"
      },
      "execution_count": 14,
      "outputs": []
    },
    {
      "cell_type": "code",
      "source": [
        "n_in, n_out = 30, 28*28\n",
        "generator = MLP(n_in, n_out)"
      ],
      "metadata": {
        "id": "ozHMVC3v_apx"
      },
      "execution_count": 15,
      "outputs": []
    },
    {
      "cell_type": "code",
      "source": [
        "output = generator(torch.randn(64, 30))\n",
        "output.shape"
      ],
      "metadata": {
        "colab": {
          "base_uri": "https://localhost:8080/"
        },
        "id": "gWLb6hCk_om-",
        "outputId": "f4c95586-636b-40a9-8a9d-41285809cc84"
      },
      "execution_count": 18,
      "outputs": [
        {
          "output_type": "execute_result",
          "data": {
            "text/plain": [
              "torch.Size([64, 784])"
            ]
          },
          "metadata": {},
          "execution_count": 18
        }
      ]
    },
    {
      "cell_type": "code",
      "source": [
        "plt.imshow(output[0].reshape(28,28).detach().numpy())\n",
        "plt.show()"
      ],
      "metadata": {
        "colab": {
          "base_uri": "https://localhost:8080/",
          "height": 430
        },
        "id": "CNkwVuPG_r4I",
        "outputId": "7e00f3bf-9c43-4501-a21e-9fa16522d019"
      },
      "execution_count": 19,
      "outputs": [
        {
          "output_type": "display_data",
          "data": {
            "text/plain": [
              "<Figure size 640x480 with 1 Axes>"
            ],
            "image/png": "[encoded data removed]"
          },
          "metadata": {}
        }
      ]
    },
    {
      "cell_type": "code",
      "source": [
        "discriminator = MLP(28*28, 1)\n",
        "output = discriminator(torch.randn(64, 28*28))\n",
        "output.shape"
      ],
      "metadata": {
        "colab": {
          "base_uri": "https://localhost:8080/"
        },
        "id": "VwfGeSFa_zRu",
        "outputId": "2b795291-a07d-4838-e581-aa6fb098d747"
      },
      "execution_count": 20,
      "outputs": [
        {
          "output_type": "execute_result",
          "data": {
            "text/plain": [
              "torch.Size([64, 1])"
            ]
          },
          "metadata": {},
          "execution_count": 20
        }
      ]
    },
    {
      "cell_type": "code",
      "source": [
        "from fastprogress import master_bar, progress_bar\n",
        "\n",
        "def fit(g, d, dataloader, epochs=30, crit=None):\n",
        "  g.to(device)\n",
        "  d.to(device)\n",
        "  g_optimizer = torch.optim.Adam(g.parameters(), lr=3e-4)\n",
        "  d_optimizer = torch.optim.Adam(d.parameters(), lr=3e-4)\n",
        "  crit = nn.BCEWithLogitsLoss() if crit == None else crit\n",
        "  g_loss, d_loss = [], []\n",
        "  mb = master_bar(range(1, epochs+1))\n",
        "  hist = {'g_loss': [], 'd_loss': []}\n",
        "  for epoch in mb:\n",
        "    \n",
        "    for X, y in progress_bar(dataloader, parent=mb):\n",
        "      #X, y = X.to(device), y.to(device)  \n",
        "      # entrenamos el discriminador\n",
        "      g.eval()\n",
        "      d.train()\n",
        "      #   generamos un batch de imágenes falsas\n",
        "      noise = torch.randn((X.size(0), g.input_size)).to(device)\n",
        "      genenerated_images = g(noise)\n",
        "      #   input del discrminator\n",
        "      d_input = torch.cat([genenerated_images, X.view(X.size(0), -1)])\n",
        "      #   gorund truth para el discriminator\n",
        "      d_gt = torch.cat([torch.zeros(X.size(0)), torch.ones(X.size(0))]).view(-1,1).to(device)\n",
        "      #   optimización\n",
        "      d_optimizer.zero_grad()\n",
        "      d_output = d(d_input)\n",
        "      d_l = crit(d_output, d_gt)\n",
        "      d_l.backward()\n",
        "      d_optimizer.step()\n",
        "      d_loss.append(d_l.item())\n",
        "      # entrenamos el generador\n",
        "      g.train()\n",
        "      d.eval()\n",
        "      #   generamos un batch de imágenes falsas\n",
        "      noise = torch.randn((X.size(0), g.input_size)).to(device)\n",
        "      genenerated_images = g(noise)\n",
        "      #   salidas del discriminador\n",
        "      d_output = d(genenerated_images)\n",
        "      #   gorund truth para el generator\n",
        "      g_gt = torch.ones(X.size(0)).view(-1,1).to(device)\n",
        "      #   optimización\n",
        "      g_optimizer.zero_grad()\n",
        "      g_l = crit(d_output, g_gt)\n",
        "      g_l.backward()\n",
        "      g_optimizer.step()\n",
        "      g_loss.append(g_l.item())\n",
        "      # logs\n",
        "      mb.child.comment = f'g_loss {np.mean(g_loss):.5f} d_loss {np.mean(d_loss):.5f}'\n",
        "    mb.write(f'Epoch {epoch}/{epochs} g_loss {np.mean(g_loss):.5f} d_loss {np.mean(d_loss):.5f}')\n",
        "    hist['g_loss'].append(np.mean(g_loss))    \n",
        "    hist['d_loss'].append(np.mean(d_loss))\n",
        "  return hist"
      ],
      "metadata": {
        "id": "X4kGt-eEwI3H"
      },
      "execution_count": 16,
      "outputs": []
    },
    {
      "cell_type": "code",
      "source": [
        "hist = fit(generator, discriminator, train_loader)"
      ],
      "metadata": {
        "colab": {
          "base_uri": "https://localhost:8080/",
          "height": 344
        },
        "id": "LpylkJ2cycm6",
        "outputId": "dd2bae2c-7f8a-4c57-ef03-c76087fba73b"
      },
      "execution_count": 29,
      "outputs": [
        {
          "output_type": "display_data",
          "data": {
            "text/plain": [
              "<IPython.core.display.HTML object>"
            ],
            "text/html": [
              "\n",
              "<style>\n",
              "    /* Turns off some styling */\n",
              "    progress {\n",
              "        /* gets rid of default border in Firefox and Opera. */\n",
              "        border: none;\n",
              "        /* Needs to be in here for Safari polyfill so background images work as expected. */\n",
              "        background-size: auto;\n",
              "    }\n",
              "    progress:not([value]), progress:not([value])::-webkit-progress-bar {\n",
              "        background: repeating-linear-gradient(45deg, #7e7e7e, #7e7e7e 10px, #5c5c5c 10px, #5c5c5c 20px);\n",
              "    }\n",
              "    .progress-bar-interrupted, .progress-bar-interrupted::-webkit-progress-bar {\n",
              "        background: #F44336;\n",
              "    }\n",
              "</style>\n"
            ]
          },
          "metadata": {}
        },
        {
          "output_type": "display_data",
          "data": {
            "text/plain": [
              "<IPython.core.display.HTML object>"
            ],
            "text/html": [
              "\n",
              "    <div>\n",
              "      <progress value='0' class='' max='30' style='width:300px; height:20px; vertical-align: middle;'></progress>\n",
              "      0.00% [0/30 00:00&lt;?]\n",
              "    </div>\n",
              "    \n",
              "\n",
              "\n",
              "    <div>\n",
              "      <progress value='0' class='' max='833' style='width:300px; height:20px; vertical-align: middle;'></progress>\n",
              "      0.00% [0/833 00:00&lt;?]\n",
              "    </div>\n",
              "    "
            ]
          },
          "metadata": {}
        },
        {
          "output_type": "error",
          "ename": "RuntimeError",
          "evalue": "ignored",
          "traceback": [
            "\u001b[0;31m---------------------------------------------------------------------------\u001b[0m",
            "\u001b[0;31mRuntimeError\u001b[0m                              Traceback (most recent call last)",
            "\u001b[0;32m<ipython-input-29-12e35e7dff22>\u001b[0m in \u001b[0;36m<cell line: 1>\u001b[0;34m()\u001b[0m\n\u001b[0;32m----> 1\u001b[0;31m \u001b[0mhist\u001b[0m \u001b[0;34m=\u001b[0m \u001b[0mfit\u001b[0m\u001b[0;34m(\u001b[0m\u001b[0mgenerator\u001b[0m\u001b[0;34m,\u001b[0m \u001b[0mdiscriminator\u001b[0m\u001b[0;34m,\u001b[0m \u001b[0mtrain_loader\u001b[0m\u001b[0;34m)\u001b[0m\u001b[0;34m\u001b[0m\u001b[0;34m\u001b[0m\u001b[0m\n\u001b[0m",
            "\u001b[0;32m<ipython-input-16-4c99a5aa27ed>\u001b[0m in \u001b[0;36mfit\u001b[0;34m(g, d, dataloader, epochs, crit)\u001b[0m\n\u001b[1;32m     21\u001b[0m       \u001b[0mgenenerated_images\u001b[0m \u001b[0;34m=\u001b[0m \u001b[0mg\u001b[0m\u001b[0;34m(\u001b[0m\u001b[0mnoise\u001b[0m\u001b[0;34m)\u001b[0m\u001b[0;34m\u001b[0m\u001b[0;34m\u001b[0m\u001b[0m\n\u001b[1;32m     22\u001b[0m       \u001b[0;31m#   input del discrminator\u001b[0m\u001b[0;34m\u001b[0m\u001b[0;34m\u001b[0m\u001b[0m\n\u001b[0;32m---> 23\u001b[0;31m       \u001b[0md_input\u001b[0m \u001b[0;34m=\u001b[0m \u001b[0mtorch\u001b[0m\u001b[0;34m.\u001b[0m\u001b[0mcat\u001b[0m\u001b[0;34m(\u001b[0m\u001b[0;34m[\u001b[0m\u001b[0mgenenerated_images\u001b[0m\u001b[0;34m,\u001b[0m \u001b[0mX\u001b[0m\u001b[0;34m.\u001b[0m\u001b[0mview\u001b[0m\u001b[0;34m(\u001b[0m\u001b[0mX\u001b[0m\u001b[0;34m.\u001b[0m\u001b[0msize\u001b[0m\u001b[0;34m(\u001b[0m\u001b[0;36m0\u001b[0m\u001b[0;34m)\u001b[0m\u001b[0;34m,\u001b[0m \u001b[0;34m-\u001b[0m\u001b[0;36m1\u001b[0m\u001b[0;34m)\u001b[0m\u001b[0;34m]\u001b[0m\u001b[0;34m)\u001b[0m\u001b[0;34m\u001b[0m\u001b[0;34m\u001b[0m\u001b[0m\n\u001b[0m\u001b[1;32m     24\u001b[0m       \u001b[0;31m#   gorund truth para el discriminator\u001b[0m\u001b[0;34m\u001b[0m\u001b[0;34m\u001b[0m\u001b[0m\n\u001b[1;32m     25\u001b[0m       \u001b[0md_gt\u001b[0m \u001b[0;34m=\u001b[0m \u001b[0mtorch\u001b[0m\u001b[0;34m.\u001b[0m\u001b[0mcat\u001b[0m\u001b[0;34m(\u001b[0m\u001b[0;34m[\u001b[0m\u001b[0mtorch\u001b[0m\u001b[0;34m.\u001b[0m\u001b[0mzeros\u001b[0m\u001b[0;34m(\u001b[0m\u001b[0mX\u001b[0m\u001b[0;34m.\u001b[0m\u001b[0msize\u001b[0m\u001b[0;34m(\u001b[0m\u001b[0;36m0\u001b[0m\u001b[0;34m)\u001b[0m\u001b[0;34m)\u001b[0m\u001b[0;34m,\u001b[0m \u001b[0mtorch\u001b[0m\u001b[0;34m.\u001b[0m\u001b[0mones\u001b[0m\u001b[0;34m(\u001b[0m\u001b[0mX\u001b[0m\u001b[0;34m.\u001b[0m\u001b[0msize\u001b[0m\u001b[0;34m(\u001b[0m\u001b[0;36m0\u001b[0m\u001b[0;34m)\u001b[0m\u001b[0;34m)\u001b[0m\u001b[0;34m]\u001b[0m\u001b[0;34m)\u001b[0m\u001b[0;34m.\u001b[0m\u001b[0mview\u001b[0m\u001b[0;34m(\u001b[0m\u001b[0;34m-\u001b[0m\u001b[0;36m1\u001b[0m\u001b[0;34m,\u001b[0m\u001b[0;36m1\u001b[0m\u001b[0;34m)\u001b[0m\u001b[0;34m.\u001b[0m\u001b[0mto\u001b[0m\u001b[0;34m(\u001b[0m\u001b[0mdevice\u001b[0m\u001b[0;34m)\u001b[0m\u001b[0;34m\u001b[0m\u001b[0;34m\u001b[0m\u001b[0m\n",
            "\u001b[0;31mRuntimeError\u001b[0m: Expected all tensors to be on the same device, but found at least two devices, cuda:0 and cpu! (when checking argument for argument tensors in method wrapper_CUDA_cat)"
          ]
        }
      ]
    },
    {
      "cell_type": "code",
      "source": [],
      "metadata": {
        "id": "1Gj37KgC-ytt"
      },
      "execution_count": null,
      "outputs": []
    }
  ]
}